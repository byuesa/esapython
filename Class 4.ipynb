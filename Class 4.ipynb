{
 "cells": [
  {
   "cell_type": "markdown",
   "metadata": {},
   "source": [
    "# Data Visualization\n",
    "Data visalization is extremely important in the work you are going to do. First of all, when first working with a dataset, visualizing the data will help you get a handle on what relationships exist. Also, any presentation is strengthened with an intuitive data visualization.\n",
    "\n",
    "Today, we will go over the following:\n",
    "* matplotlib.pyplot\n",
    "* Seaborn"
   ]
  },
  {
   "cell_type": "markdown",
   "metadata": {},
   "source": [
    "First off, let's make up some data."
   ]
  },
  {
   "cell_type": "code",
   "execution_count": null,
   "metadata": {},
   "outputs": [],
   "source": [
    "import numpy as np\n",
    "import pandas as pd\n",
    "import matplotlib.pyplot as plt\n",
    "import seaborn as sns"
   ]
  },
  {
   "cell_type": "code",
   "execution_count": null,
   "metadata": {},
   "outputs": [],
   "source": [
    "X = np.linspace(1,100,100)\n",
    "randX = np.random.randn(100)\n",
    "randY = np.random.randn(100)\n",
    "\n",
    "plt.plot(X, randY)\n",
    "plt.show()"
   ]
  },
  {
   "cell_type": "markdown",
   "metadata": {},
   "source": [
    "Looks about right. Let's try to plot our two random variables together."
   ]
  },
  {
   "cell_type": "code",
   "execution_count": null,
   "metadata": {},
   "outputs": [],
   "source": [
    "plt.plot(randX, randY)\n",
    "plt.show()"
   ]
  },
  {
   "cell_type": "markdown",
   "metadata": {},
   "source": [
    "This is not what we wanted. How do we change modes from a line plot to a scatter plot?"
   ]
  },
  {
   "cell_type": "code",
   "execution_count": null,
   "metadata": {},
   "outputs": [],
   "source": [
    "plt.scatter(randX, randY)\n",
    "plt.show()"
   ]
  },
  {
   "cell_type": "markdown",
   "metadata": {},
   "source": [
    "This is much better. What if we want to add a title to our plot?"
   ]
  },
  {
   "cell_type": "code",
   "execution_count": null,
   "metadata": {},
   "outputs": [],
   "source": [
    "plt.scatter(randX, randY)\n",
    "plt.xlabel('Our X')\n",
    "plt.ylabel('Our Y')\n",
    "plt.title('Lorem Ipsum')\n",
    "plt.show()"
   ]
  },
  {
   "cell_type": "markdown",
   "metadata": {},
   "source": [
    "### Exercise:\n",
    "1. Create a random x and a random y variable\n",
    "2. Plot them as a scatter plot\n",
    "3. Add a title, x label, and y label\n",
    "4. Make the dots blue"
   ]
  },
  {
   "cell_type": "markdown",
   "metadata": {},
   "source": [
    "What about multiple datasets at once?\n",
    "There are 2 ways to do this - overlays and subplots. Let's start out with overlays."
   ]
  },
  {
   "cell_type": "code",
   "execution_count": null,
   "metadata": {},
   "outputs": [],
   "source": [
    "randY1 = np.random.randn(100)\n",
    "randY2 = np.random.randn(100)\n",
    "plt.plot(X, randY1, randY2)\n",
    "plt.show()"
   ]
  },
  {
   "cell_type": "code",
   "execution_count": null,
   "metadata": {},
   "outputs": [],
   "source": [
    "randX = np.random.randn(100)\n",
    "plt.figure(figsize = (15,15)) # Let's make this one big\n",
    "plt.scatter(randX, randY1)\n",
    "plt.scatter(randX, randY2)\n",
    "plt.show()"
   ]
  },
  {
   "cell_type": "markdown",
   "metadata": {},
   "source": [
    "Let's look at subplots:"
   ]
  },
  {
   "cell_type": "code",
   "execution_count": null,
   "metadata": {},
   "outputs": [],
   "source": [
    "fig, (ax1, ax2) = plt.subplots(2, 1, sharex=True)\n",
    "ax1.plot(X, randY1)\n",
    "ax2.plot(X, randY2)\n",
    "plt.show()"
   ]
  },
  {
   "cell_type": "code",
   "execution_count": null,
   "metadata": {},
   "outputs": [],
   "source": [
    "fig, axes = plt.subplots(2, 2)\n",
    "axes[0, 0].plot(X, randY1)\n",
    "axes[0, 1].plot(X, randY2)\n",
    "axes[1, 0].scatter(randX, randY1)\n",
    "axes[1, 1].scatter(randX, randY2)\n",
    "plt.show()"
   ]
  },
  {
   "cell_type": "markdown",
   "metadata": {},
   "source": [
    "A little ugly? You're very right. It's not so hard to google what you would want to change, like:\n",
    "* spacing between subplots\n",
    "* colors of plots\n",
    "* sharing of axes\n",
    "* subplot titles and axis labels\n",
    "\n",
    "Exercise: 3x3 grid of plots, make them red, given them each a title."
   ]
  },
  {
   "cell_type": "markdown",
   "metadata": {},
   "source": [
    "### Pandas interlude\n",
    "Pandas has a plotting feature, which actually uses matplotlib in the background. Let's load in some Kaggle housing data, then look at a histogram:"
   ]
  },
  {
   "cell_type": "code",
   "execution_count": null,
   "metadata": {},
   "outputs": [],
   "source": [
    "housingdata = pd.read_csv(\"train.csv\")\n",
    "housingdata.head()"
   ]
  },
  {
   "cell_type": "code",
   "execution_count": null,
   "metadata": {
    "scrolled": true
   },
   "outputs": [],
   "source": [
    "housingdata['SalePrice'].plot.hist(title='Sale Price of Home, in $')\n",
    "plt.show()"
   ]
  },
  {
   "cell_type": "markdown",
   "metadata": {},
   "source": [
    "You can use columns of a DataFrame just like we were using our NumPy arrays:"
   ]
  },
  {
   "cell_type": "code",
   "execution_count": null,
   "metadata": {},
   "outputs": [],
   "source": [
    "plt.scatter(housingdata['SalePrice'], housingdata['LotArea'])\n",
    "plt.show()"
   ]
  },
  {
   "cell_type": "markdown",
   "metadata": {},
   "source": [
    "### Seaborn\n",
    "A more advanced plotting library is Seaborn. Seaborn lets you do more intricate plots than matplotlib, and looks much better. The syntax is roughly the same, since Seaborn also uses matplotlib in the background."
   ]
  },
  {
   "cell_type": "code",
   "execution_count": null,
   "metadata": {},
   "outputs": [],
   "source": [
    "grid = sns.PairGrid(housingdata[['SalePrice', 'LotArea', 'TotalBsmtSF', '1stFlrSF']])\n",
    "grid.map(plt.scatter)\n",
    "plt.show()"
   ]
  },
  {
   "cell_type": "code",
   "execution_count": null,
   "metadata": {},
   "outputs": [],
   "source": [
    "sns.violinplot(x=np.random.randn(10))\n",
    "plt.show()"
   ]
  },
  {
   "cell_type": "code",
   "execution_count": null,
   "metadata": {},
   "outputs": [],
   "source": [
    "ax = sns.violinplot(x=\"YrSold\", y=\"SalePrice\", data=housingdata)\n",
    "plt.show()"
   ]
  },
  {
   "cell_type": "code",
   "execution_count": null,
   "metadata": {},
   "outputs": [],
   "source": [
    "sns.set_style(\"whitegrid\")\n",
    "ax = sns.violinplot(x=\"YrSold\", y=\"SalePrice\", data=housingdata)\n",
    "plt.title('Look at these violins')\n",
    "plt.show()"
   ]
  },
  {
   "cell_type": "code",
   "execution_count": null,
   "metadata": {},
   "outputs": [],
   "source": [
    "data = housingdata[['YrSold', 'MoSold', 'SalePrice']]\n",
    "data = data.pivot_table('SalePrice', 'MoSold', 'YrSold')\n",
    "ax = sns.heatmap(data)\n",
    "plt.title(\"HEATMAP\")\n",
    "plt.show()"
   ]
  },
  {
   "cell_type": "markdown",
   "metadata": {},
   "source": [
    "Exercise:\n",
    "Make a heatmap of anything. Then, make the color blue."
   ]
  },
  {
   "cell_type": "markdown",
   "metadata": {},
   "source": [
    "Things I did not talk about:\n",
    "* Saving figures"
   ]
  }
 ],
 "metadata": {
  "kernelspec": {
   "display_name": "Python 3",
   "language": "python",
   "name": "python3"
  },
  "language_info": {
   "codemirror_mode": {
    "name": "ipython",
    "version": 3
   },
   "file_extension": ".py",
   "mimetype": "text/x-python",
   "name": "python",
   "nbconvert_exporter": "python",
   "pygments_lexer": "ipython3",
   "version": "3.6.5"
  }
 },
 "nbformat": 4,
 "nbformat_minor": 2
}
