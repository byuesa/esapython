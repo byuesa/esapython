{
 "cells": [
  {
   "cell_type": "markdown",
   "metadata": {},
   "source": [
    "# NumPy\n",
    "\n",
    "\"numpy\" is a scientific library for Python. Think matrix algebra on steroids. Its main data structure is the NumPy array.\n",
    "\n",
    "### Pros of numpy:\n",
    "* fast (but really)\n",
    "* some nice built-in functions, including random number generation\n",
    "* plays nice with other python packages\n",
    "\n",
    "### Cons of numpy:\n",
    "* lower-level than many other packages\n",
    "\n",
    "\n",
    "Where do I use numpy in economics? My advanced macroeconomics class relied on it heavily.\n",
    "\n",
    "## A note on python packages:\n",
    "As you may have noticed, a lot of python programs will start with something like 'import numpy as np' What does this mean? It means that your computer will know to look for functions in the NumPy library that it has previously downloaded and stored elsewhere. The 'np' is just shorthand - you could just type 'import numpy' and then refer to all NumPy functions with the prefix 'numpy.' When you finish off the statement with 'as np,' you can type 'np' instead of 'numpy.'"
   ]
  },
  {
   "cell_type": "markdown",
   "metadata": {},
   "source": [
    "## Basics"
   ]
  },
  {
   "cell_type": "code",
   "execution_count": 1,
   "metadata": {},
   "outputs": [],
   "source": [
    "#!pip install numpy\n",
    "import numpy as np"
   ]
  },
  {
   "cell_type": "code",
   "execution_count": 2,
   "metadata": {},
   "outputs": [
    {
     "name": "stdout",
     "output_type": "stream",
     "text": [
      "[1 2 3 6 5 4 8 7 9]\n"
     ]
    }
   ],
   "source": [
    "A = np.array([1,2,3,6,5,4,8,7,9])\n",
    "print(A)"
   ]
  },
  {
   "cell_type": "code",
   "execution_count": 3,
   "metadata": {},
   "outputs": [
    {
     "data": {
      "text/plain": [
       "(9,)"
      ]
     },
     "execution_count": 3,
     "metadata": {},
     "output_type": "execute_result"
    }
   ],
   "source": [
    "A.shape"
   ]
  },
  {
   "cell_type": "markdown",
   "metadata": {},
   "source": [
    "What?\n",
    "\n",
    "NumPy treats one-dimensional matrices (vectors) specially. Let's have NumPy treat it as a multi-dimensional array."
   ]
  },
  {
   "cell_type": "code",
   "execution_count": 4,
   "metadata": {},
   "outputs": [
    {
     "name": "stdout",
     "output_type": "stream",
     "text": [
      "[[1 2 3 6 5 4 8 7 9]]\n"
     ]
    }
   ],
   "source": [
    "A = A.reshape(1,9)\n",
    "print(A)"
   ]
  },
  {
   "cell_type": "code",
   "execution_count": 5,
   "metadata": {},
   "outputs": [
    {
     "data": {
      "text/plain": [
       "(1, 9)"
      ]
     },
     "execution_count": 5,
     "metadata": {},
     "output_type": "execute_result"
    }
   ],
   "source": [
    "A.shape"
   ]
  },
  {
   "cell_type": "markdown",
   "metadata": {},
   "source": [
    "### The shape of an array\n",
    "Each NumPy multidimensional array has a 'shape' attribute. It is always a tuple - meaning, in the form (a, b) where a is the number of rows and b is the number of columns."
   ]
  },
  {
   "cell_type": "code",
   "execution_count": 6,
   "metadata": {},
   "outputs": [
    {
     "name": "stdout",
     "output_type": "stream",
     "text": [
      "[[1 2 3]\n",
      " [6 5 4]\n",
      " [8 7 9]]\n"
     ]
    }
   ],
   "source": [
    "A = A.reshape(3,3)\n",
    "print(A)"
   ]
  },
  {
   "cell_type": "markdown",
   "metadata": {},
   "source": [
    "Can I make arrays that are 3-dimensional?"
   ]
  },
  {
   "cell_type": "code",
   "execution_count": 7,
   "metadata": {},
   "outputs": [
    {
     "name": "stdout",
     "output_type": "stream",
     "text": [
      "[[[ 1  2  3]\n",
      "  [ 4  5  6]\n",
      "  [ 7  8  9]]\n",
      "\n",
      " [[10 11 12]\n",
      "  [13 14 15]\n",
      "  [16 17 18]]\n",
      "\n",
      " [[19 20 21]\n",
      "  [22 23 24]\n",
      "  [25 26 27]]] \n",
      "The shape of C is: (3, 3, 3)\n"
     ]
    }
   ],
   "source": [
    "C = np.array(range(1,28))\n",
    "C = C.reshape((3,3,3))\n",
    "print(C, '\\nThe shape of C is:', C.shape)"
   ]
  },
  {
   "cell_type": "markdown",
   "metadata": {},
   "source": [
    "See how we passed a python range object into the array constructor? That's pretty neat."
   ]
  },
  {
   "cell_type": "markdown",
   "metadata": {},
   "source": [
    "## Introducing: zeros and element-wise arithmetic"
   ]
  },
  {
   "cell_type": "code",
   "execution_count": 8,
   "metadata": {},
   "outputs": [
    {
     "name": "stdout",
     "output_type": "stream",
     "text": [
      "[[2. 2. 2.]\n",
      " [2. 2. 2.]\n",
      " [2. 2. 2.]]\n"
     ]
    }
   ],
   "source": [
    "B = np.zeros((3,3))\n",
    "B = (B + 1)*2\n",
    "print(B)"
   ]
  },
  {
   "cell_type": "markdown",
   "metadata": {},
   "source": [
    "### Why is everything a '2.' instead of a '2'?\n",
    "\n",
    "It has to do with integer division. Computers store integers and decimal numbers differently. Integers take less space. Sometimes, if you give it whole numbers to divide, it will try to keep the answer as a whole number, telling you something along the lines of \"12/10 = 1\" instead of 1.2.\n",
    "\n",
    "However, if you don't want this to happen, you can enter numbers with a decimal after them. '2' is an integer, but '2.' is what you call a floating point number. Python handles them differently.\n",
    "\n",
    "Often, python and its libraries (like numpy) are pretty good at doing what you want them to do. This is a much bigger thing in C, C++, and similar languages. But, it's good to be aware that things like this can happen."
   ]
  },
  {
   "cell_type": "markdown",
   "metadata": {},
   "source": [
    "## Adding, multiplying, inverting"
   ]
  },
  {
   "cell_type": "code",
   "execution_count": 9,
   "metadata": {},
   "outputs": [
    {
     "name": "stdout",
     "output_type": "stream",
     "text": [
      "[[ 3.  4.  5.]\n",
      " [ 8.  7.  6.]\n",
      " [10.  9. 11.]]\n"
     ]
    }
   ],
   "source": [
    "print(A + B)"
   ]
  },
  {
   "cell_type": "code",
   "execution_count": 10,
   "metadata": {},
   "outputs": [
    {
     "name": "stdout",
     "output_type": "stream",
     "text": [
      "[[ 2.  4.  6.]\n",
      " [12. 10.  8.]\n",
      " [16. 14. 18.]]\n"
     ]
    }
   ],
   "source": [
    "print(A * B)"
   ]
  },
  {
   "cell_type": "markdown",
   "metadata": {},
   "source": [
    "This may be fine for business majors, but this is not the matrix algebra we want."
   ]
  },
  {
   "cell_type": "code",
   "execution_count": 11,
   "metadata": {},
   "outputs": [
    {
     "name": "stdout",
     "output_type": "stream",
     "text": [
      "[[12. 12. 12.]\n",
      " [30. 30. 30.]\n",
      " [48. 48. 48.]]\n"
     ]
    }
   ],
   "source": [
    "D = np.dot(A, B)\n",
    "print(D)"
   ]
  },
  {
   "cell_type": "markdown",
   "metadata": {},
   "source": [
    "This is the old school way, and is also most efficient on memory use. Here's a way that seems a little more intuitive:"
   ]
  },
  {
   "cell_type": "code",
   "execution_count": 12,
   "metadata": {},
   "outputs": [
    {
     "name": "stdout",
     "output_type": "stream",
     "text": [
      "[[12. 12. 12.]\n",
      " [30. 30. 30.]\n",
      " [48. 48. 48.]]\n"
     ]
    }
   ],
   "source": [
    "D = A @ B\n",
    "print(D)"
   ]
  },
  {
   "cell_type": "markdown",
   "metadata": {},
   "source": [
    "Let's look into inverting a matrix:"
   ]
  },
  {
   "cell_type": "code",
   "execution_count": 13,
   "metadata": {},
   "outputs": [
    {
     "name": "stdout",
     "output_type": "stream",
     "text": [
      "[[-0.80952381 -0.14285714  0.33333333]\n",
      " [ 1.04761905  0.71428571 -0.66666667]\n",
      " [-0.0952381  -0.42857143  0.33333333]]\n"
     ]
    }
   ],
   "source": [
    "B = np.linalg.inv(A)\n",
    "print(B)"
   ]
  },
  {
   "cell_type": "code",
   "execution_count": 14,
   "metadata": {},
   "outputs": [
    {
     "name": "stdout",
     "output_type": "stream",
     "text": [
      "[[ 1.00000000e+00 -5.55111512e-17 -5.55111512e-17]\n",
      " [-4.44089210e-16  1.00000000e+00  2.22044605e-16]\n",
      " [ 5.55111512e-16 -1.66533454e-16  1.00000000e+00]]\n"
     ]
    }
   ],
   "source": [
    "idmat = np.dot(A,B)\n",
    "print(idmat)"
   ]
  },
  {
   "cell_type": "markdown",
   "metadata": {},
   "source": [
    "## A real-life (ish) example:\n",
    "\n",
    "Let's start off with a regression example. We're going to make up some data, knowing the relationship between all the variables, and then we'll add in some random chance (epsilon). Then, we'll see if our standard Ordinary Least Squares (OLS) regression can estimate the original relationship. Here's our model:\n",
    "\n",
    "$$Y_i = \\beta_0 + \\beta_1 X_{1i} + \\beta_2 X_{2i} + \\beta_3 X_{3i} + \\varepsilon_i $$"
   ]
  },
  {
   "cell_type": "code",
   "execution_count": 15,
   "metadata": {},
   "outputs": [],
   "source": [
    "nobs = 10000\n",
    "numxvars = 3\n",
    "\n",
    "x1 = np.random.rand(nobs)*10\n",
    "x2 = np.random.rand(nobs)*5\n",
    "x3 = np.random.randint(1,10,nobs)\n",
    "\n",
    "beta0 = 10\n",
    "beta1 = 3\n",
    "beta2 = 2\n",
    "beta3 = 4\n",
    "\n",
    "eps = np.random.randn(nobs)*10\n",
    "\n",
    "Y = beta0 + beta1*x1 + beta2*x2 + beta3*x3 + eps"
   ]
  },
  {
   "cell_type": "code",
   "execution_count": 16,
   "metadata": {},
   "outputs": [
    {
     "name": "stdout",
     "output_type": "stream",
     "text": [
      "[ -3.19720576  -5.13551127  -5.46313827   8.84925058   5.45390226\n",
      "  -3.81774715   5.73988402 -19.81544326 -16.69128432  -5.26036559]\n"
     ]
    }
   ],
   "source": [
    "print(eps[:10])"
   ]
  },
  {
   "cell_type": "markdown",
   "metadata": {},
   "source": [
    "What's with the colon?\n",
    "\n",
    "It's python's 'slice' notation. I only wanted what was in the array up to the element in position 10. Slice notation could be its own class. If you're interested, Google it."
   ]
  },
  {
   "cell_type": "code",
   "execution_count": 17,
   "metadata": {},
   "outputs": [
    {
     "name": "stdout",
     "output_type": "stream",
     "text": [
      "[9.97934431 3.01209678 2.00134726 3.99886939]\n",
      "0.35772413650989365\n"
     ]
    }
   ],
   "source": [
    "X = np.stack((np.ones(nobs), x1, x2, x3), axis = 1)\n",
    "\n",
    "Xprime = np.transpose(X)\n",
    "XprimeXinv = np.linalg.inv(Xprime @ X)\n",
    "\n",
    "bhat = XprimeXinv @ Xprime @ Y\n",
    "\n",
    "uhat = X @ XprimeXinv @ Xprime @ Y\n",
    "sigma2 = (np.transpose(uhat) @ uhat) / (nobs - (numxvars + 1))\n",
    "varbhat = XprimeXinv*sigma2\n",
    "\n",
    "print(bhat)\n",
    "print(np.sqrt(varbhat[2,2]))"
   ]
  },
  {
   "cell_type": "markdown",
   "metadata": {},
   "source": [
    "# Pandas\n",
    "\n",
    "\"pandas\" is a python library that was specially created to work with tabular data. These tables of data are called Data Frames. Pandas offers a simple interface for simple analysis. It plays nicely with numpy.\n",
    "\n",
    "### Pros of pandas:\n",
    "* completely free\n",
    "* links with other python packages that provide more advanced utilities\n",
    "    * numpy \n",
    "    * matplotlib for easy visualization\n",
    "    * sklearn for machine learning\n",
    "    * hundreds of other packages tailored to data analysis\n",
    "* widely used -> Google-ability of problems\n",
    "* can work with nearly any file type\n",
    "\n",
    "### Cons of pandas:\n",
    "* slow on large (2GB+) datasets\n",
    "* a bit of a learning curve\n",
    "* not as intuitive or efficient as languages built specifically for economic analysis (STATA). You can never beat 'regress y x' for simplicity"
   ]
  }
 ],
 "metadata": {
  "kernelspec": {
   "display_name": "Python 3",
   "language": "python",
   "name": "python3"
  },
  "language_info": {
   "codemirror_mode": {
    "name": "ipython",
    "version": 3
   },
   "file_extension": ".py",
   "mimetype": "text/x-python",
   "name": "python",
   "nbconvert_exporter": "python",
   "pygments_lexer": "ipython3",
   "version": "3.6.5"
  }
 },
 "nbformat": 4,
 "nbformat_minor": 2
}
